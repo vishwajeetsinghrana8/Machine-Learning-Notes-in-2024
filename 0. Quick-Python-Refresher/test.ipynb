{
 "cells": [
  {
   "cell_type": "code",
   "execution_count": 1,
   "id": "8c7903ae-546e-46d8-8f3a-ef84bd973b3c",
   "metadata": {},
   "outputs": [],
   "source": [
    "import module"
   ]
  },
  {
   "cell_type": "code",
   "execution_count": 2,
   "id": "ee011627-ba71-43c9-9091-e57f2a806368",
   "metadata": {},
   "outputs": [
    {
     "name": "stdin",
     "output_type": "stream",
     "text": [
      "Var1: 12\n",
      "Var2: 34\n"
     ]
    },
    {
     "name": "stdout",
     "output_type": "stream",
     "text": [
      "Addition: 46\n"
     ]
    }
   ],
   "source": [
    "module.func1()"
   ]
  },
  {
   "cell_type": "code",
   "execution_count": 3,
   "id": "60e6e44d-6760-4118-ab2b-aeb2057e4949",
   "metadata": {},
   "outputs": [
    {
     "name": "stdout",
     "output_type": "stream",
     "text": [
      "Addition: 46\n"
     ]
    }
   ],
   "source": [
    "module.func2(12,34)"
   ]
  },
  {
   "cell_type": "code",
   "execution_count": null,
   "id": "43e28a48-0322-4673-aec9-ffbd0a61e7a2",
   "metadata": {},
   "outputs": [],
   "source": []
  }
 ],
 "metadata": {
  "kernelspec": {
   "display_name": "Python 3 (ipykernel)",
   "language": "python",
   "name": "python3"
  },
  "language_info": {
   "codemirror_mode": {
    "name": "ipython",
    "version": 3
   },
   "file_extension": ".py",
   "mimetype": "text/x-python",
   "name": "python",
   "nbconvert_exporter": "python",
   "pygments_lexer": "ipython3",
   "version": "3.12.5"
  }
 },
 "nbformat": 4,
 "nbformat_minor": 5
}
