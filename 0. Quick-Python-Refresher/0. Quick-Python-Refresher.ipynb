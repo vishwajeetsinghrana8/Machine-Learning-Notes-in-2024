{
 "cells": [
  {
   "cell_type": "markdown",
   "metadata": {},
   "source": [
    "# Machine Learning with Python\n",
    "## Quick Python Refresher "
   ]
  },
  {
   "cell_type": "markdown",
   "metadata": {},
   "source": [
    "This is my first Notebook. This is topic-1\n",
    "\n",
    "# Knowledge Shelf\n",
    "## Knowledge Shelf\n",
    "### Knowledge Shelf\n",
    "#### Knowledge Shelf\n",
    "##### Knowledge Shelf\n",
    "\n",
    "**Knowledge Shelf**"
   ]
  },
  {
   "cell_type": "markdown",
   "metadata": {},
   "source": [
    "<img src=\"https://upload.wikimedia.org/wikipedia/commons/thumb/c/c3/Python-logo-notext.svg/1869px-Python-logo-notext.svg.png\" alt=\"Image not found\" width=\"300\" height=\"300\">"
   ]
  },
  {
   "cell_type": "markdown",
   "metadata": {},
   "source": [
    "[Python Website](https://www.python.org/)"
   ]
  },
  {
   "cell_type": "markdown",
   "metadata": {},
   "source": [
    "- This is point-1\n",
    "    - This is sub-point-1\n",
    "    - This is sub-point-2\n",
    "    - This is sub-point-3\n",
    "    - This is sub-point-4\n",
    "- This is point-2\n",
    "- This is point-3\n",
    "\n",
    "* This is point-1\n",
    "* This is point-2\n",
    "* This is point-3"
   ]
  },
  {
   "cell_type": "markdown",
   "metadata": {},
   "source": [
    "## Python Strings"
   ]
  },
  {
   "cell_type": "code",
   "execution_count": 36,
   "metadata": {
    "execution": {
     "iopub.execute_input": "2024-09-12T03:32:16.211582Z",
     "iopub.status.busy": "2024-09-12T03:32:16.211059Z",
     "iopub.status.idle": "2024-09-12T03:32:16.219076Z",
     "shell.execute_reply": "2024-09-12T03:32:16.217441Z",
     "shell.execute_reply.started": "2024-09-12T03:32:16.211526Z"
    }
   },
   "outputs": [
    {
     "name": "stdout",
     "output_type": "stream",
     "text": [
      "Welcome to Knowledge Shelf after a long time.\n"
     ]
    }
   ],
   "source": [
    "print(\"Welcome to Knowledge Shelf after a long time.\")"
   ]
  },
  {
   "cell_type": "code",
   "execution_count": 37,
   "metadata": {
    "execution": {
     "iopub.execute_input": "2024-09-12T03:32:16.222330Z",
     "iopub.status.busy": "2024-09-12T03:32:16.221760Z",
     "iopub.status.idle": "2024-09-12T03:32:16.235716Z",
     "shell.execute_reply": "2024-09-12T03:32:16.234149Z",
     "shell.execute_reply.started": "2024-09-12T03:32:16.222251Z"
    }
   },
   "outputs": [
    {
     "name": "stdout",
     "output_type": "stream",
     "text": [
      "Welcome to Knowledge Shelf after a long time.\n",
      "Welcome to Knowledge Shelf after a long time.\n",
      "Welcome to Knowledge Shelf after a long time.\n",
      "Welcome to Knowledge Shelf after a long time.\n"
     ]
    }
   ],
   "source": [
    "print('Welcome to Knowledge Shelf after a long time.')\n",
    "print(\"Welcome to Knowledge Shelf after a long time.\")\n",
    "print('''Welcome to Knowledge Shelf after a long time.''')\n",
    "print(\"\"\"Welcome to Knowledge Shelf after a long time.\"\"\")"
   ]
  },
  {
   "cell_type": "code",
   "execution_count": 38,
   "metadata": {
    "execution": {
     "iopub.execute_input": "2024-09-12T03:32:16.238134Z",
     "iopub.status.busy": "2024-09-12T03:32:16.237692Z",
     "iopub.status.idle": "2024-09-12T03:32:16.250876Z",
     "shell.execute_reply": "2024-09-12T03:32:16.249078Z",
     "shell.execute_reply.started": "2024-09-12T03:32:16.238089Z"
    }
   },
   "outputs": [
    {
     "name": "stdout",
     "output_type": "stream",
     "text": [
      "What's your name?\n",
      "What's your name?\n"
     ]
    }
   ],
   "source": [
    "print('What\\'s your name?')\n",
    "print(\"What's your name?\")"
   ]
  },
  {
   "cell_type": "markdown",
   "metadata": {},
   "source": [
    "## Python Builtins"
   ]
  },
  {
   "cell_type": "code",
   "execution_count": 39,
   "metadata": {
    "execution": {
     "iopub.execute_input": "2024-09-12T03:32:16.255128Z",
     "iopub.status.busy": "2024-09-12T03:32:16.254536Z",
     "iopub.status.idle": "2024-09-12T03:32:16.273292Z",
     "shell.execute_reply": "2024-09-12T03:32:16.272031Z",
     "shell.execute_reply.started": "2024-09-12T03:32:16.255067Z"
    }
   },
   "outputs": [
    {
     "data": {
      "text/plain": [
       "['ArithmeticError',\n",
       " 'AssertionError',\n",
       " 'AttributeError',\n",
       " 'BaseException',\n",
       " 'BlockingIOError',\n",
       " 'BrokenPipeError',\n",
       " 'BufferError',\n",
       " 'BytesWarning',\n",
       " 'ChildProcessError',\n",
       " 'ConnectionAbortedError',\n",
       " 'ConnectionError',\n",
       " 'ConnectionRefusedError',\n",
       " 'ConnectionResetError',\n",
       " 'DeprecationWarning',\n",
       " 'EOFError',\n",
       " 'Ellipsis',\n",
       " 'EncodingWarning',\n",
       " 'EnvironmentError',\n",
       " 'Exception',\n",
       " 'False',\n",
       " 'FileExistsError',\n",
       " 'FileNotFoundError',\n",
       " 'FloatingPointError',\n",
       " 'FutureWarning',\n",
       " 'GeneratorExit',\n",
       " 'IOError',\n",
       " 'ImportError',\n",
       " 'ImportWarning',\n",
       " 'IndentationError',\n",
       " 'IndexError',\n",
       " 'InterruptedError',\n",
       " 'IsADirectoryError',\n",
       " 'KeyError',\n",
       " 'KeyboardInterrupt',\n",
       " 'LookupError',\n",
       " 'MemoryError',\n",
       " 'ModuleNotFoundError',\n",
       " 'NameError',\n",
       " 'None',\n",
       " 'NotADirectoryError',\n",
       " 'NotImplemented',\n",
       " 'NotImplementedError',\n",
       " 'OSError',\n",
       " 'OverflowError',\n",
       " 'PendingDeprecationWarning',\n",
       " 'PermissionError',\n",
       " 'ProcessLookupError',\n",
       " 'RecursionError',\n",
       " 'ReferenceError',\n",
       " 'ResourceWarning',\n",
       " 'RuntimeError',\n",
       " 'RuntimeWarning',\n",
       " 'StopAsyncIteration',\n",
       " 'StopIteration',\n",
       " 'SyntaxError',\n",
       " 'SyntaxWarning',\n",
       " 'SystemError',\n",
       " 'SystemExit',\n",
       " 'TabError',\n",
       " 'TimeoutError',\n",
       " 'True',\n",
       " 'TypeError',\n",
       " 'UnboundLocalError',\n",
       " 'UnicodeDecodeError',\n",
       " 'UnicodeEncodeError',\n",
       " 'UnicodeError',\n",
       " 'UnicodeTranslateError',\n",
       " 'UnicodeWarning',\n",
       " 'UserWarning',\n",
       " 'ValueError',\n",
       " 'Warning',\n",
       " 'ZeroDivisionError',\n",
       " '__IPYTHON__',\n",
       " '__build_class__',\n",
       " '__debug__',\n",
       " '__doc__',\n",
       " '__import__',\n",
       " '__loader__',\n",
       " '__name__',\n",
       " '__package__',\n",
       " '__spec__',\n",
       " 'abs',\n",
       " 'aiter',\n",
       " 'all',\n",
       " 'anext',\n",
       " 'any',\n",
       " 'ascii',\n",
       " 'bin',\n",
       " 'bool',\n",
       " 'breakpoint',\n",
       " 'bytearray',\n",
       " 'bytes',\n",
       " 'callable',\n",
       " 'chr',\n",
       " 'classmethod',\n",
       " 'compile',\n",
       " 'complex',\n",
       " 'copyright',\n",
       " 'credits',\n",
       " 'delattr',\n",
       " 'dict',\n",
       " 'dir',\n",
       " 'display',\n",
       " 'divmod',\n",
       " 'enumerate',\n",
       " 'eval',\n",
       " 'exec',\n",
       " 'execfile',\n",
       " 'filter',\n",
       " 'float',\n",
       " 'format',\n",
       " 'frozenset',\n",
       " 'get_ipython',\n",
       " 'getattr',\n",
       " 'globals',\n",
       " 'hasattr',\n",
       " 'hash',\n",
       " 'help',\n",
       " 'hex',\n",
       " 'id',\n",
       " 'input',\n",
       " 'int',\n",
       " 'isinstance',\n",
       " 'issubclass',\n",
       " 'iter',\n",
       " 'len',\n",
       " 'license',\n",
       " 'list',\n",
       " 'locals',\n",
       " 'map',\n",
       " 'max',\n",
       " 'memoryview',\n",
       " 'min',\n",
       " 'next',\n",
       " 'object',\n",
       " 'oct',\n",
       " 'open',\n",
       " 'ord',\n",
       " 'pow',\n",
       " 'print',\n",
       " 'property',\n",
       " 'range',\n",
       " 'repr',\n",
       " 'reversed',\n",
       " 'round',\n",
       " 'runfile',\n",
       " 'set',\n",
       " 'setattr',\n",
       " 'slice',\n",
       " 'sorted',\n",
       " 'staticmethod',\n",
       " 'str',\n",
       " 'sum',\n",
       " 'super',\n",
       " 'tuple',\n",
       " 'type',\n",
       " 'vars',\n",
       " 'zip']"
      ]
     },
     "execution_count": 39,
     "metadata": {},
     "output_type": "execute_result"
    }
   ],
   "source": [
    "dir(__builtins__)"
   ]
  },
  {
   "cell_type": "code",
   "execution_count": 40,
   "metadata": {
    "execution": {
     "iopub.execute_input": "2024-09-12T03:32:16.275436Z",
     "iopub.status.busy": "2024-09-12T03:32:16.275017Z",
     "iopub.status.idle": "2024-09-12T03:32:16.288815Z",
     "shell.execute_reply": "2024-09-12T03:32:16.287365Z",
     "shell.execute_reply.started": "2024-09-12T03:32:16.275392Z"
    }
   },
   "outputs": [
    {
     "name": "stdout",
     "output_type": "stream",
     "text": [
      "Help on built-in function ord in module builtins:\n",
      "\n",
      "ord(c, /)\n",
      "    Return the Unicode code point for a one-character string.\n",
      "\n"
     ]
    }
   ],
   "source": [
    "help(ord)"
   ]
  },
  {
   "cell_type": "code",
   "execution_count": 41,
   "metadata": {
    "execution": {
     "iopub.execute_input": "2024-09-12T03:32:16.291601Z",
     "iopub.status.busy": "2024-09-12T03:32:16.291054Z",
     "iopub.status.idle": "2024-09-12T03:32:16.305904Z",
     "shell.execute_reply": "2024-09-12T03:32:16.304267Z",
     "shell.execute_reply.started": "2024-09-12T03:32:16.291551Z"
    }
   },
   "outputs": [
    {
     "name": "stdout",
     "output_type": "stream",
     "text": [
      "65\n",
      "97\n",
      "66\n",
      "98\n"
     ]
    }
   ],
   "source": [
    "print(ord('A'))\n",
    "print(ord('a'))\n",
    "print(ord('B'))\n",
    "print(ord('b'))"
   ]
  },
  {
   "cell_type": "code",
   "execution_count": 42,
   "metadata": {
    "execution": {
     "iopub.execute_input": "2024-09-12T03:32:16.308316Z",
     "iopub.status.busy": "2024-09-12T03:32:16.307797Z",
     "iopub.status.idle": "2024-09-12T03:32:16.319358Z",
     "shell.execute_reply": "2024-09-12T03:32:16.317932Z",
     "shell.execute_reply.started": "2024-09-12T03:32:16.308221Z"
    },
    "scrolled": true
   },
   "outputs": [
    {
     "name": "stdout",
     "output_type": "stream",
     "text": [
      "Help on built-in function sum in module builtins:\n",
      "\n",
      "sum(iterable, /, start=0)\n",
      "    Return the sum of a 'start' value (default: 0) plus an iterable of numbers\n",
      "    \n",
      "    When the iterable is empty, return the start value.\n",
      "    This function is intended specifically for use with numeric values and may\n",
      "    reject non-numeric types.\n",
      "\n"
     ]
    }
   ],
   "source": [
    "help(sum)"
   ]
  },
  {
   "cell_type": "code",
   "execution_count": 43,
   "metadata": {
    "execution": {
     "iopub.execute_input": "2024-09-12T03:32:16.321395Z",
     "iopub.status.busy": "2024-09-12T03:32:16.320942Z",
     "iopub.status.idle": "2024-09-12T03:32:16.331377Z",
     "shell.execute_reply": "2024-09-12T03:32:16.329994Z",
     "shell.execute_reply.started": "2024-09-12T03:32:16.321349Z"
    }
   },
   "outputs": [
    {
     "name": "stdout",
     "output_type": "stream",
     "text": [
      "152\n",
      "150\n"
     ]
    }
   ],
   "source": [
    "l1 = [10,20,30,40,50] \n",
    "print(sum(l1, 2))\n",
    "print(sum([10,20,30,40,50]))"
   ]
  },
  {
   "cell_type": "code",
   "execution_count": 44,
   "metadata": {
    "execution": {
     "iopub.execute_input": "2024-09-12T03:32:16.336654Z",
     "iopub.status.busy": "2024-09-12T03:32:16.336060Z",
     "iopub.status.idle": "2024-09-12T03:32:16.346648Z",
     "shell.execute_reply": "2024-09-12T03:32:16.344406Z",
     "shell.execute_reply.started": "2024-09-12T03:32:16.336585Z"
    }
   },
   "outputs": [
    {
     "name": "stdout",
     "output_type": "stream",
     "text": [
      "Help on built-in function pow in module builtins:\n",
      "\n",
      "pow(base, exp, mod=None)\n",
      "    Equivalent to base**exp with 2 arguments or base**exp % mod with 3 arguments\n",
      "    \n",
      "    Some types, such as ints, are able to use a more efficient algorithm when\n",
      "    invoked using the three argument form.\n",
      "\n"
     ]
    }
   ],
   "source": [
    "help(pow)"
   ]
  },
  {
   "cell_type": "code",
   "execution_count": 45,
   "metadata": {
    "execution": {
     "iopub.execute_input": "2024-09-12T03:32:16.349523Z",
     "iopub.status.busy": "2024-09-12T03:32:16.348874Z",
     "iopub.status.idle": "2024-09-12T03:32:16.361046Z",
     "shell.execute_reply": "2024-09-12T03:32:16.359557Z",
     "shell.execute_reply.started": "2024-09-12T03:32:16.349471Z"
    }
   },
   "outputs": [
    {
     "name": "stdout",
     "output_type": "stream",
     "text": [
      "1024\n",
      "1024\n"
     ]
    }
   ],
   "source": [
    "print(pow(2,10))\n",
    "print(2**10)"
   ]
  },
  {
   "cell_type": "markdown",
   "metadata": {},
   "source": [
    "## Arithmetic Operations "
   ]
  },
  {
   "cell_type": "code",
   "execution_count": 46,
   "metadata": {
    "execution": {
     "iopub.execute_input": "2024-09-12T03:32:16.364470Z",
     "iopub.status.busy": "2024-09-12T03:32:16.363068Z",
     "iopub.status.idle": "2024-09-12T03:32:16.376934Z",
     "shell.execute_reply": "2024-09-12T03:32:16.375244Z",
     "shell.execute_reply.started": "2024-09-12T03:32:16.364399Z"
    }
   },
   "outputs": [
    {
     "data": {
      "text/plain": [
       "78"
      ]
     },
     "execution_count": 46,
     "metadata": {},
     "output_type": "execute_result"
    }
   ],
   "source": [
    "34+44"
   ]
  },
  {
   "cell_type": "code",
   "execution_count": 47,
   "metadata": {
    "execution": {
     "iopub.execute_input": "2024-09-12T03:32:16.378921Z",
     "iopub.status.busy": "2024-09-12T03:32:16.378514Z",
     "iopub.status.idle": "2024-09-12T03:32:16.395038Z",
     "shell.execute_reply": "2024-09-12T03:32:16.393580Z",
     "shell.execute_reply.started": "2024-09-12T03:32:16.378877Z"
    }
   },
   "outputs": [
    {
     "data": {
      "text/plain": [
       "-21"
      ]
     },
     "execution_count": 47,
     "metadata": {},
     "output_type": "execute_result"
    }
   ],
   "source": [
    "76 - 55\n",
    "55 - 76"
   ]
  },
  {
   "cell_type": "code",
   "execution_count": 48,
   "metadata": {
    "execution": {
     "iopub.execute_input": "2024-09-12T03:32:16.397150Z",
     "iopub.status.busy": "2024-09-12T03:32:16.396720Z",
     "iopub.status.idle": "2024-09-12T03:32:16.409198Z",
     "shell.execute_reply": "2024-09-12T03:32:16.407728Z",
     "shell.execute_reply.started": "2024-09-12T03:32:16.397108Z"
    }
   },
   "outputs": [
    {
     "data": {
      "text/plain": [
       "84"
      ]
     },
     "execution_count": 48,
     "metadata": {},
     "output_type": "execute_result"
    }
   ],
   "source": [
    "12 * 7"
   ]
  },
  {
   "cell_type": "code",
   "execution_count": 49,
   "metadata": {
    "execution": {
     "iopub.execute_input": "2024-09-12T03:32:16.411877Z",
     "iopub.status.busy": "2024-09-12T03:32:16.411216Z",
     "iopub.status.idle": "2024-09-12T03:32:16.421691Z",
     "shell.execute_reply": "2024-09-12T03:32:16.420378Z",
     "shell.execute_reply.started": "2024-09-12T03:32:16.411794Z"
    }
   },
   "outputs": [
    {
     "data": {
      "text/plain": [
       "3.142857142857143"
      ]
     },
     "execution_count": 49,
     "metadata": {},
     "output_type": "execute_result"
    }
   ],
   "source": [
    "22/7"
   ]
  },
  {
   "cell_type": "code",
   "execution_count": 50,
   "metadata": {
    "execution": {
     "iopub.execute_input": "2024-09-12T03:32:16.423779Z",
     "iopub.status.busy": "2024-09-12T03:32:16.423402Z",
     "iopub.status.idle": "2024-09-12T03:32:16.438475Z",
     "shell.execute_reply": "2024-09-12T03:32:16.436959Z",
     "shell.execute_reply.started": "2024-09-12T03:32:16.423739Z"
    }
   },
   "outputs": [
    {
     "name": "stdout",
     "output_type": "stream",
     "text": [
      "3\n",
      "<class 'int'>\n"
     ]
    }
   ],
   "source": [
    "print(22//7)\n",
    "print(type(22//7))"
   ]
  },
  {
   "cell_type": "code",
   "execution_count": 51,
   "metadata": {
    "execution": {
     "iopub.execute_input": "2024-09-12T03:32:16.441530Z",
     "iopub.status.busy": "2024-09-12T03:32:16.440202Z",
     "iopub.status.idle": "2024-09-12T03:32:16.456226Z",
     "shell.execute_reply": "2024-09-12T03:32:16.453316Z",
     "shell.execute_reply.started": "2024-09-12T03:32:16.441477Z"
    }
   },
   "outputs": [
    {
     "data": {
      "text/plain": [
       "256"
      ]
     },
     "execution_count": 51,
     "metadata": {},
     "output_type": "execute_result"
    }
   ],
   "source": [
    "2**8"
   ]
  },
  {
   "cell_type": "markdown",
   "metadata": {},
   "source": [
    "# Comments in python"
   ]
  },
  {
   "cell_type": "code",
   "execution_count": 52,
   "metadata": {
    "execution": {
     "iopub.execute_input": "2024-09-12T03:32:16.458821Z",
     "iopub.status.busy": "2024-09-12T03:32:16.458207Z",
     "iopub.status.idle": "2024-09-12T03:32:16.472849Z",
     "shell.execute_reply": "2024-09-12T03:32:16.471119Z",
     "shell.execute_reply.started": "2024-09-12T03:32:16.458754Z"
    }
   },
   "outputs": [],
   "source": [
    "# # This is Line-1.\n",
    "# This is Line-2.\n",
    "# This is Line-3."
   ]
  },
  {
   "cell_type": "code",
   "execution_count": 53,
   "metadata": {
    "execution": {
     "iopub.execute_input": "2024-09-12T03:32:16.479779Z",
     "iopub.status.busy": "2024-09-12T03:32:16.477841Z",
     "iopub.status.idle": "2024-09-12T03:32:16.491496Z",
     "shell.execute_reply": "2024-09-12T03:32:16.490184Z",
     "shell.execute_reply.started": "2024-09-12T03:32:16.479675Z"
    }
   },
   "outputs": [
    {
     "data": {
      "text/plain": [
       "'# # This is Line-1.\\n# This is Line-2.\\n# This is Line-3.'"
      ]
     },
     "execution_count": 53,
     "metadata": {},
     "output_type": "execute_result"
    }
   ],
   "source": [
    "## only works for .py files\n",
    "'''# # This is Line-1.\n",
    "# This is Line-2.\n",
    "# This is Line-3.'''"
   ]
  },
  {
   "cell_type": "markdown",
   "metadata": {},
   "source": [
    "## Escape Characters"
   ]
  },
  {
   "cell_type": "code",
   "execution_count": 54,
   "metadata": {
    "execution": {
     "iopub.execute_input": "2024-09-12T03:32:16.493518Z",
     "iopub.status.busy": "2024-09-12T03:32:16.493009Z",
     "iopub.status.idle": "2024-09-12T03:32:16.505610Z",
     "shell.execute_reply": "2024-09-12T03:32:16.504293Z",
     "shell.execute_reply.started": "2024-09-12T03:32:16.493468Z"
    }
   },
   "outputs": [
    {
     "name": "stdout",
     "output_type": "stream",
     "text": [
      "This is Line-1. This is Line-2. This is Line-3. This is Line-4.\n",
      "This is Line-1.\n",
      "This is Line-2.\n",
      "This is Line-3.\n",
      "This is Line-4.\n"
     ]
    }
   ],
   "source": [
    "print(\"This is Line-1. This is Line-2. This is Line-3. This is Line-4.\")\n",
    "print(\"This is Line-1.\\nThis is Line-2.\\nThis is Line-3.\\nThis is Line-4.\")"
   ]
  },
  {
   "cell_type": "code",
   "execution_count": 55,
   "metadata": {
    "execution": {
     "iopub.execute_input": "2024-09-12T03:32:16.507871Z",
     "iopub.status.busy": "2024-09-12T03:32:16.507349Z",
     "iopub.status.idle": "2024-09-12T03:32:16.518585Z",
     "shell.execute_reply": "2024-09-12T03:32:16.517167Z",
     "shell.execute_reply.started": "2024-09-12T03:32:16.507819Z"
    }
   },
   "outputs": [
    {
     "name": "stdout",
     "output_type": "stream",
     "text": [
      "\n",
      "This is Line-1.\n",
      "This is Line-2.\n",
      "This is Line-3.\n",
      "This is Line-4.\n",
      "\n"
     ]
    }
   ],
   "source": [
    "print(\"\"\"\n",
    "This is Line-1.\n",
    "This is Line-2.\n",
    "This is Line-3.\n",
    "This is Line-4.\n",
    "\"\"\")"
   ]
  },
  {
   "cell_type": "code",
   "execution_count": 56,
   "metadata": {
    "execution": {
     "iopub.execute_input": "2024-09-12T03:32:16.520927Z",
     "iopub.status.busy": "2024-09-12T03:32:16.520297Z",
     "iopub.status.idle": "2024-09-12T03:32:16.533016Z",
     "shell.execute_reply": "2024-09-12T03:32:16.531634Z",
     "shell.execute_reply.started": "2024-09-12T03:32:16.520877Z"
    }
   },
   "outputs": [
    {
     "name": "stdout",
     "output_type": "stream",
     "text": [
      "1,\t2,\t3,\t4,\t5,\t6,\t7\n"
     ]
    }
   ],
   "source": [
    "print(\"1,\\t2,\\t3,\\t4,\\t5,\\t6,\\t7\")"
   ]
  },
  {
   "cell_type": "markdown",
   "metadata": {},
   "source": [
    "## Variables "
   ]
  },
  {
   "cell_type": "code",
   "execution_count": 57,
   "metadata": {
    "execution": {
     "iopub.execute_input": "2024-09-12T03:32:16.535010Z",
     "iopub.status.busy": "2024-09-12T03:32:16.534591Z",
     "iopub.status.idle": "2024-09-12T03:32:16.543994Z",
     "shell.execute_reply": "2024-09-12T03:32:16.542876Z",
     "shell.execute_reply.started": "2024-09-12T03:32:16.534968Z"
    }
   },
   "outputs": [
    {
     "name": "stdout",
     "output_type": "stream",
     "text": [
      "Hello Knowledge Shelf 30 3.141\n",
      "Hello Knowledge Shelf. Age is 30.\n"
     ]
    }
   ],
   "source": [
    "var1 = \"Hello\"\n",
    "_var1 = \"Knowledge Shelf\"\n",
    "var_10 = 30\n",
    "val_float = 3.141\n",
    "print(var1, _var1, var_10, val_float)\n",
    "print(var1 + \" \" + _var1 + \". Age is \" + str(var_10) + \".\")"
   ]
  },
  {
   "cell_type": "code",
   "execution_count": 58,
   "metadata": {
    "execution": {
     "iopub.execute_input": "2024-09-12T03:32:16.546323Z",
     "iopub.status.busy": "2024-09-12T03:32:16.545749Z",
     "iopub.status.idle": "2024-09-12T03:32:16.558533Z",
     "shell.execute_reply": "2024-09-12T03:32:16.556774Z",
     "shell.execute_reply.started": "2024-09-12T03:32:16.546234Z"
    }
   },
   "outputs": [
    {
     "ename": "SyntaxError",
     "evalue": "invalid decimal literal (3729017082.py, line 1)",
     "output_type": "error",
     "traceback": [
      "\u001b[0;36m  Cell \u001b[0;32mIn[58], line 1\u001b[0;36m\u001b[0m\n\u001b[0;31m    10_varr = 40\u001b[0m\n\u001b[0m      ^\u001b[0m\n\u001b[0;31mSyntaxError\u001b[0m\u001b[0;31m:\u001b[0m invalid decimal literal\n"
     ]
    }
   ],
   "source": [
    "10_varr = 40"
   ]
  },
  {
   "cell_type": "code",
   "execution_count": 59,
   "metadata": {
    "execution": {
     "iopub.execute_input": "2024-09-12T03:32:46.785761Z",
     "iopub.status.busy": "2024-09-12T03:32:46.785237Z",
     "iopub.status.idle": "2024-09-12T03:32:46.791502Z",
     "shell.execute_reply": "2024-09-12T03:32:46.790071Z",
     "shell.execute_reply.started": "2024-09-12T03:32:46.785715Z"
    }
   },
   "outputs": [],
   "source": [
    "var1 = 22\n",
    "var2 = 7"
   ]
  },
  {
   "cell_type": "code",
   "execution_count": 60,
   "metadata": {
    "execution": {
     "iopub.execute_input": "2024-09-12T03:32:48.008800Z",
     "iopub.status.busy": "2024-09-12T03:32:48.007676Z",
     "iopub.status.idle": "2024-09-12T03:32:48.015232Z",
     "shell.execute_reply": "2024-09-12T03:32:48.013883Z",
     "shell.execute_reply.started": "2024-09-12T03:32:48.008736Z"
    }
   },
   "outputs": [
    {
     "name": "stdout",
     "output_type": "stream",
     "text": [
      "<class 'int'>\n"
     ]
    }
   ],
   "source": [
    "print(type(var2))"
   ]
  },
  {
   "cell_type": "code",
   "execution_count": 61,
   "metadata": {
    "execution": {
     "iopub.execute_input": "2024-09-12T03:32:48.946026Z",
     "iopub.status.busy": "2024-09-12T03:32:48.945585Z",
     "iopub.status.idle": "2024-09-12T03:32:48.953754Z",
     "shell.execute_reply": "2024-09-12T03:32:48.952149Z",
     "shell.execute_reply.started": "2024-09-12T03:32:48.945983Z"
    }
   },
   "outputs": [
    {
     "name": "stdout",
     "output_type": "stream",
     "text": [
      "Add -  29\n",
      "Sub -  15\n",
      "Mul -  154\n",
      "Div -  3.142857142857143\n",
      "Float Div -  3\n"
     ]
    }
   ],
   "source": [
    "print(\"Add - \",var1 + var2)\n",
    "print(\"Sub - \",var1 - var2)\n",
    "print(\"Mul - \",var1 * var2)\n",
    "print(\"Div - \",var1 / var2)\n",
    "print(\"Float Div - \",var1 // var2)"
   ]
  },
  {
   "cell_type": "markdown",
   "metadata": {},
   "source": [
    "## Runtime Input in Python"
   ]
  },
  {
   "cell_type": "code",
   "execution_count": 62,
   "metadata": {
    "execution": {
     "iopub.execute_input": "2024-09-12T03:32:52.088099Z",
     "iopub.status.busy": "2024-09-12T03:32:52.087009Z",
     "iopub.status.idle": "2024-09-12T03:32:58.832926Z",
     "shell.execute_reply": "2024-09-12T03:32:58.831657Z",
     "shell.execute_reply.started": "2024-09-12T03:32:52.088046Z"
    }
   },
   "outputs": [
    {
     "name": "stdin",
     "output_type": "stream",
     "text": [
      "Enter the value =  34\n"
     ]
    }
   ],
   "source": [
    "var1 = input(\"Enter the value = \")"
   ]
  },
  {
   "cell_type": "code",
   "execution_count": 63,
   "metadata": {
    "execution": {
     "iopub.execute_input": "2024-09-12T03:33:01.752399Z",
     "iopub.status.busy": "2024-09-12T03:33:01.751943Z",
     "iopub.status.idle": "2024-09-12T03:33:01.758248Z",
     "shell.execute_reply": "2024-09-12T03:33:01.756954Z",
     "shell.execute_reply.started": "2024-09-12T03:33:01.752353Z"
    }
   },
   "outputs": [
    {
     "name": "stdout",
     "output_type": "stream",
     "text": [
      "34\n",
      "<class 'str'>\n"
     ]
    }
   ],
   "source": [
    "print(var1)\n",
    "print(type(var1))"
   ]
  },
  {
   "cell_type": "code",
   "execution_count": 64,
   "metadata": {
    "execution": {
     "iopub.execute_input": "2024-09-12T03:33:04.071961Z",
     "iopub.status.busy": "2024-09-12T03:33:04.071497Z",
     "iopub.status.idle": "2024-09-12T03:33:06.121372Z",
     "shell.execute_reply": "2024-09-12T03:33:06.119859Z",
     "shell.execute_reply.started": "2024-09-12T03:33:04.071917Z"
    }
   },
   "outputs": [
    {
     "name": "stdin",
     "output_type": "stream",
     "text": [
      "Enter the value =  56\n"
     ]
    },
    {
     "name": "stdout",
     "output_type": "stream",
     "text": [
      "56\n",
      "<class 'int'>\n"
     ]
    }
   ],
   "source": [
    "var2 = int(input(\"Enter the value = \"))\n",
    "print(var2)\n",
    "print(type(var2))"
   ]
  },
  {
   "cell_type": "markdown",
   "metadata": {},
   "source": [
    "## print() formats"
   ]
  },
  {
   "cell_type": "code",
   "execution_count": 65,
   "metadata": {
    "execution": {
     "iopub.execute_input": "2024-09-12T03:33:09.305702Z",
     "iopub.status.busy": "2024-09-12T03:33:09.304373Z",
     "iopub.status.idle": "2024-09-12T03:33:12.796894Z",
     "shell.execute_reply": "2024-09-12T03:33:12.795500Z",
     "shell.execute_reply.started": "2024-09-12T03:33:09.305647Z"
    }
   },
   "outputs": [
    {
     "name": "stdin",
     "output_type": "stream",
     "text": [
      "Enter the value:  Vinay\n"
     ]
    },
    {
     "name": "stdout",
     "output_type": "stream",
     "text": [
      "my name is Vinay\n",
      "my name is Vinay\n",
      "my name is Vinay\n",
      "my name is Vinay\n"
     ]
    }
   ],
   "source": [
    "var1 = input(\"Enter the value: \")\n",
    "print(\"my name is \"+var1)\n",
    "print(\"my name is\",var1)\n",
    "print(\"my name is {}\".format(var1))\n",
    "print(f\"my name is {var1}\")"
   ]
  },
  {
   "cell_type": "markdown",
   "metadata": {},
   "source": [
    "## Loops in Python\n",
    "\n",
    "1. While Loop\n",
    "2. For Loop"
   ]
  },
  {
   "cell_type": "code",
   "execution_count": 4,
   "metadata": {},
   "outputs": [
    {
     "name": "stdout",
     "output_type": "stream",
     "text": [
      "Value of var1: 0\n",
      "Value of var1: 1\n",
      "Value of var1: 2\n",
      "Value of var1: 3\n",
      "Value of var1: 4\n",
      "Value of var1: 5\n",
      "Value of var1: 6\n",
      "Value of var1: 7\n",
      "Value of var1: 8\n",
      "Value of var1: 9\n",
      "Value of var1: 10\n",
      "Value of var1: 11\n",
      "Value of var1: 12\n",
      "Value of var1: 13\n",
      "Value of var1: 14\n",
      "Value of var1: 15\n",
      "Value of var1: 16\n",
      "Value of var1: 17\n",
      "Value of var1: 18\n",
      "Value of var1: 19\n",
      "Value of var1: 20\n"
     ]
    }
   ],
   "source": [
    "## While Loop\n",
    "\n",
    "import time\n",
    "var1 = 0\n",
    "\n",
    "while(var1 <= 20):\n",
    "    print(\"Value of var1:\",var1)\n",
    "    time.sleep(0.5)\n",
    "    var1 = var1 + 1"
   ]
  },
  {
   "cell_type": "code",
   "execution_count": 5,
   "metadata": {},
   "outputs": [
    {
     "name": "stdin",
     "output_type": "stream",
     "text": [
      "Enter the value: 5\n"
     ]
    },
    {
     "name": "stdout",
     "output_type": "stream",
     "text": [
      "5 * 1 = 5\n",
      "5 * 2 = 10\n",
      "5 * 3 = 15\n",
      "5 * 4 = 20\n",
      "5 * 5 = 25\n",
      "5 * 6 = 30\n",
      "5 * 7 = 35\n",
      "5 * 8 = 40\n",
      "5 * 9 = 45\n",
      "5 * 10 = 50\n"
     ]
    },
    {
     "name": "stdin",
     "output_type": "stream",
     "text": [
      "Enter the value: 10\n"
     ]
    },
    {
     "name": "stdout",
     "output_type": "stream",
     "text": [
      "10 * 1 = 10\n",
      "10 * 2 = 20\n",
      "10 * 3 = 30\n",
      "10 * 4 = 40\n",
      "10 * 5 = 50\n",
      "10 * 6 = 60\n",
      "10 * 7 = 70\n",
      "10 * 8 = 80\n",
      "10 * 9 = 90\n",
      "10 * 10 = 100\n"
     ]
    },
    {
     "name": "stdin",
     "output_type": "stream",
     "text": [
      "Enter the value: 79\n"
     ]
    },
    {
     "name": "stdout",
     "output_type": "stream",
     "text": [
      "79 * 1 = 79\n",
      "79 * 2 = 158\n",
      "79 * 3 = 237\n",
      "79 * 4 = 316\n",
      "79 * 5 = 395\n",
      "79 * 6 = 474\n",
      "79 * 7 = 553\n",
      "79 * 8 = 632\n",
      "79 * 9 = 711\n",
      "79 * 10 = 790\n"
     ]
    },
    {
     "name": "stdin",
     "output_type": "stream",
     "text": [
      "Enter the value: 0\n"
     ]
    },
    {
     "name": "stdout",
     "output_type": "stream",
     "text": [
      "While loop STOP!\n"
     ]
    }
   ],
   "source": [
    "while True:\n",
    "    num = int(input(\"Enter the value:\"))\n",
    "    var1 = 1\n",
    "    if num == 0:\n",
    "        break\n",
    "    while(var1 <= 10):\n",
    "        var2 = var1 * num\n",
    "        print(f\"{num} * {var1} = {var2}\")\n",
    "        var1+=1\n",
    "print(\"While loop STOP!\")"
   ]
  },
  {
   "cell_type": "code",
   "execution_count": 10,
   "metadata": {},
   "outputs": [
    {
     "name": "stdout",
     "output_type": "stream",
     "text": [
      "Value of var1: 1\n",
      "Value of var1: 3\n",
      "Value of var1: 5\n",
      "Value of var1: 7\n",
      "Value of var1: 9\n",
      "Value of var1: 11\n",
      "Value of var1: 13\n",
      "Value of var1: 15\n",
      "Value of var1: 17\n",
      "Value of var1: 19\n"
     ]
    }
   ],
   "source": [
    "## For Loop\n",
    "for var1 in range(1, 21, 2):\n",
    "    print(\"Value of var1:\",var1)"
   ]
  },
  {
   "cell_type": "code",
   "execution_count": 11,
   "metadata": {},
   "outputs": [
    {
     "name": "stdout",
     "output_type": "stream",
     "text": [
      "Value of var1: 21\n",
      "Value of var1: 19\n",
      "Value of var1: 17\n",
      "Value of var1: 15\n",
      "Value of var1: 13\n",
      "Value of var1: 11\n",
      "Value of var1: 9\n",
      "Value of var1: 7\n",
      "Value of var1: 5\n",
      "Value of var1: 3\n"
     ]
    }
   ],
   "source": [
    "for var1 in range(21, 1, -2):\n",
    "    print(\"Value of var1:\",var1)"
   ]
  },
  {
   "cell_type": "code",
   "execution_count": 12,
   "metadata": {},
   "outputs": [
    {
     "name": "stdin",
     "output_type": "stream",
     "text": [
      "Enter the value: 12\n"
     ]
    },
    {
     "name": "stdout",
     "output_type": "stream",
     "text": [
      "12 * 1 = 12\n",
      "12 * 2 = 24\n",
      "12 * 3 = 36\n",
      "12 * 4 = 48\n",
      "12 * 5 = 60\n",
      "12 * 6 = 72\n",
      "12 * 7 = 84\n",
      "12 * 8 = 96\n",
      "12 * 9 = 108\n",
      "12 * 10 = 120\n"
     ]
    },
    {
     "name": "stdin",
     "output_type": "stream",
     "text": [
      "Enter the value: 13\n"
     ]
    },
    {
     "name": "stdout",
     "output_type": "stream",
     "text": [
      "13 * 1 = 13\n",
      "13 * 2 = 26\n",
      "13 * 3 = 39\n",
      "13 * 4 = 52\n",
      "13 * 5 = 65\n",
      "13 * 6 = 78\n",
      "13 * 7 = 91\n",
      "13 * 8 = 104\n",
      "13 * 9 = 117\n",
      "13 * 10 = 130\n"
     ]
    },
    {
     "name": "stdin",
     "output_type": "stream",
     "text": [
      "Enter the value: 14\n"
     ]
    },
    {
     "name": "stdout",
     "output_type": "stream",
     "text": [
      "14 * 1 = 14\n",
      "14 * 2 = 28\n",
      "14 * 3 = 42\n",
      "14 * 4 = 56\n",
      "14 * 5 = 70\n",
      "14 * 6 = 84\n",
      "14 * 7 = 98\n",
      "14 * 8 = 112\n",
      "14 * 9 = 126\n",
      "14 * 10 = 140\n"
     ]
    },
    {
     "name": "stdin",
     "output_type": "stream",
     "text": [
      "Enter the value: 0\n"
     ]
    },
    {
     "name": "stdout",
     "output_type": "stream",
     "text": [
      "For loop STOP!\n"
     ]
    }
   ],
   "source": [
    "while True:\n",
    "    num = int(input(\"Enter the value:\"))\n",
    "    var1 = 1\n",
    "    if num == 0:\n",
    "        break\n",
    "    for var1 in range(1,11):\n",
    "        var2 = var1 * num\n",
    "        print(f\"{num} * {var1} = {var2}\")\n",
    "print(\"For loop STOP!\")"
   ]
  },
  {
   "cell_type": "markdown",
   "metadata": {},
   "source": [
    "## Functions in Python"
   ]
  },
  {
   "cell_type": "markdown",
   "metadata": {},
   "source": [
    "def fun_name(arg1, arg2):\n",
    "    \n",
    "    func_body\n",
    "    \n",
    "    func_body\n",
    "    \n",
    "    func_body"
   ]
  },
  {
   "cell_type": "code",
   "execution_count": 13,
   "metadata": {},
   "outputs": [],
   "source": [
    "def func1():\n",
    "    print(\"This is my first function in python!!!.\")"
   ]
  },
  {
   "cell_type": "code",
   "execution_count": 14,
   "metadata": {},
   "outputs": [
    {
     "name": "stdout",
     "output_type": "stream",
     "text": [
      "This is my first function in python!!!.\n"
     ]
    }
   ],
   "source": [
    "func1()"
   ]
  },
  {
   "cell_type": "code",
   "execution_count": 15,
   "metadata": {},
   "outputs": [],
   "source": [
    "def table():\n",
    "    num = int(input(\"Enter the number:\"))\n",
    "    for i in range(1, 11):\n",
    "        print(f\"{num} * {i} = {num * i}\")"
   ]
  },
  {
   "cell_type": "code",
   "execution_count": 17,
   "metadata": {},
   "outputs": [
    {
     "name": "stdin",
     "output_type": "stream",
     "text": [
      "Enter the number: 12\n"
     ]
    },
    {
     "name": "stdout",
     "output_type": "stream",
     "text": [
      "12 * 1 = 12\n",
      "12 * 2 = 24\n",
      "12 * 3 = 36\n",
      "12 * 4 = 48\n",
      "12 * 5 = 60\n",
      "12 * 6 = 72\n",
      "12 * 7 = 84\n",
      "12 * 8 = 96\n",
      "12 * 9 = 108\n",
      "12 * 10 = 120\n"
     ]
    }
   ],
   "source": [
    "table()"
   ]
  },
  {
   "cell_type": "code",
   "execution_count": 18,
   "metadata": {},
   "outputs": [],
   "source": [
    "# 1. No Args , No Return type\n",
    "def func1():\n",
    "    var1 = int(input(\"Var1:\"))\n",
    "    var2 = int(input(\"Var2:\"))\n",
    "    var3 = var1 + var2\n",
    "    print(\"Addition:\",var3)"
   ]
  },
  {
   "cell_type": "code",
   "execution_count": 19,
   "metadata": {},
   "outputs": [
    {
     "name": "stdin",
     "output_type": "stream",
     "text": [
      "Var1: 12\n",
      "Var2: 45\n"
     ]
    },
    {
     "name": "stdout",
     "output_type": "stream",
     "text": [
      "Addition: 57\n"
     ]
    }
   ],
   "source": [
    "func1()"
   ]
  },
  {
   "cell_type": "code",
   "execution_count": 20,
   "metadata": {},
   "outputs": [],
   "source": [
    "# 2. With Args , No Return type\n",
    "def func2(var1, var2):\n",
    "    var3 = var1 + var2\n",
    "    print(\"Addition:\",var3)"
   ]
  },
  {
   "cell_type": "code",
   "execution_count": 21,
   "metadata": {},
   "outputs": [
    {
     "name": "stdout",
     "output_type": "stream",
     "text": [
      "Addition: 57\n"
     ]
    }
   ],
   "source": [
    "func2(12,45)"
   ]
  },
  {
   "cell_type": "code",
   "execution_count": 23,
   "metadata": {},
   "outputs": [],
   "source": [
    "# 3. No Args , with Return type\n",
    "def func3():\n",
    "    var1 = int(input(\"Var1:\"))\n",
    "    var2 = int(input(\"Var2:\"))\n",
    "    var3 = var1 + var2\n",
    "    return var3"
   ]
  },
  {
   "cell_type": "code",
   "execution_count": 24,
   "metadata": {},
   "outputs": [
    {
     "name": "stdin",
     "output_type": "stream",
     "text": [
      "Var1: 23\n",
      "Var2: 67\n"
     ]
    },
    {
     "name": "stdout",
     "output_type": "stream",
     "text": [
      "Addition: 90\n"
     ]
    }
   ],
   "source": [
    "print(\"Addition:\", func3())"
   ]
  },
  {
   "cell_type": "code",
   "execution_count": 26,
   "metadata": {},
   "outputs": [],
   "source": [
    "# 4. With Args , With Return type\n",
    "def func4(var1, var2):\n",
    "    var3 = var1 + var2\n",
    "    return var3"
   ]
  },
  {
   "cell_type": "code",
   "execution_count": 27,
   "metadata": {},
   "outputs": [
    {
     "name": "stdout",
     "output_type": "stream",
     "text": [
      "Addition: 90\n"
     ]
    }
   ],
   "source": [
    "print(\"Addition:\", func4(23,67))"
   ]
  },
  {
   "cell_type": "code",
   "execution_count": 31,
   "metadata": {},
   "outputs": [],
   "source": [
    "from test import *"
   ]
  },
  {
   "cell_type": "code",
   "execution_count": 33,
   "metadata": {},
   "outputs": [
    {
     "data": {
      "text/plain": [
       "46"
      ]
     },
     "execution_count": 33,
     "metadata": {},
     "output_type": "execute_result"
    }
   ],
   "source": [
    "func1(12,34)"
   ]
  },
  {
   "cell_type": "code",
   "execution_count": 1,
   "metadata": {},
   "outputs": [
    {
     "name": "stdout",
     "output_type": "stream",
     "text": [
      "Python 3.12.5\n"
     ]
    }
   ],
   "source": [
    "!python --version"
   ]
  },
  {
   "cell_type": "markdown",
   "metadata": {},
   "source": [
    "# Python - Data Structures\n",
    "\n",
    "1. List\n",
    "2. Tuples\n",
    "3. Sets\n",
    "4. Dict"
   ]
  },
  {
   "cell_type": "code",
   "execution_count": 66,
   "metadata": {},
   "outputs": [],
   "source": [
    "var1 = [1,2,3,4,5,6,7,8,9,10]"
   ]
  },
  {
   "cell_type": "code",
   "execution_count": 67,
   "metadata": {},
   "outputs": [
    {
     "data": {
      "text/plain": [
       "[1, 2, 3, 4, 5, 6, 7, 8, 9, 10]"
      ]
     },
     "execution_count": 67,
     "metadata": {},
     "output_type": "execute_result"
    }
   ],
   "source": [
    "var1"
   ]
  },
  {
   "cell_type": "code",
   "execution_count": 69,
   "metadata": {},
   "outputs": [
    {
     "name": "stdout",
     "output_type": "stream",
     "text": [
      "<class 'list'>\n"
     ]
    }
   ],
   "source": [
    "print(type(var1))"
   ]
  },
  {
   "cell_type": "code",
   "execution_count": 70,
   "metadata": {},
   "outputs": [],
   "source": [
    "name = [\"Ravi\",\"Nitin\",\"Deepak\",\"Himanshu\",\"Divya\"]"
   ]
  },
  {
   "cell_type": "code",
   "execution_count": 71,
   "metadata": {},
   "outputs": [
    {
     "data": {
      "text/plain": [
       "['Ravi', 'Nitin', 'Deepak', 'Himanshu', 'Divya']"
      ]
     },
     "execution_count": 71,
     "metadata": {},
     "output_type": "execute_result"
    }
   ],
   "source": [
    "name"
   ]
  },
  {
   "cell_type": "code",
   "execution_count": 72,
   "metadata": {},
   "outputs": [
    {
     "data": {
      "text/plain": [
       "['Data Scince', 'AI', 'Machine Learning', 35.469, True, False, None, 13, 45]"
      ]
     },
     "execution_count": 72,
     "metadata": {},
     "output_type": "execute_result"
    }
   ],
   "source": [
    "mix = [\"Data Scince\",\"AI\",\"Machine Learning\",35.469,True,False,None, 13,45]\n",
    "mix"
   ]
  },
  {
   "cell_type": "code",
   "execution_count": 73,
   "metadata": {},
   "outputs": [
    {
     "data": {
      "text/plain": [
       "['Ravi', 'Nitin', 'Deepak', 'Himanshu', 'Divya']"
      ]
     },
     "execution_count": 73,
     "metadata": {},
     "output_type": "execute_result"
    }
   ],
   "source": [
    "name"
   ]
  },
  {
   "cell_type": "code",
   "execution_count": 7,
   "metadata": {},
   "outputs": [
    {
     "data": {
      "text/plain": [
       "'Ravi'"
      ]
     },
     "execution_count": 7,
     "metadata": {},
     "output_type": "execute_result"
    }
   ],
   "source": [
    "name[0]"
   ]
  },
  {
   "cell_type": "code",
   "execution_count": 8,
   "metadata": {},
   "outputs": [
    {
     "data": {
      "text/plain": [
       "'Himanshu'"
      ]
     },
     "execution_count": 8,
     "metadata": {},
     "output_type": "execute_result"
    }
   ],
   "source": [
    "name[3]"
   ]
  },
  {
   "cell_type": "code",
   "execution_count": 74,
   "metadata": {},
   "outputs": [
    {
     "data": {
      "text/plain": [
       "8"
      ]
     },
     "execution_count": 74,
     "metadata": {},
     "output_type": "execute_result"
    }
   ],
   "source": [
    "len('Knowledge')\n",
    "len('Knowledge')-1"
   ]
  },
  {
   "cell_type": "code",
   "execution_count": 10,
   "metadata": {},
   "outputs": [
    {
     "data": {
      "text/plain": [
       "'Divya'"
      ]
     },
     "execution_count": 10,
     "metadata": {},
     "output_type": "execute_result"
    }
   ],
   "source": [
    "name[len(name)-1]"
   ]
  },
  {
   "cell_type": "code",
   "execution_count": 11,
   "metadata": {},
   "outputs": [
    {
     "data": {
      "text/plain": [
       "'Divya'"
      ]
     },
     "execution_count": 11,
     "metadata": {},
     "output_type": "execute_result"
    }
   ],
   "source": [
    "name[-1]"
   ]
  },
  {
   "cell_type": "code",
   "execution_count": 12,
   "metadata": {},
   "outputs": [
    {
     "data": {
      "text/plain": [
       "'Himanshu'"
      ]
     },
     "execution_count": 12,
     "metadata": {},
     "output_type": "execute_result"
    }
   ],
   "source": [
    "name[-2]"
   ]
  },
  {
   "cell_type": "code",
   "execution_count": 75,
   "metadata": {},
   "outputs": [
    {
     "data": {
      "text/plain": [
       "['Ravi', 'Nitin', 'Deepak', 'Himanshu', 'Divya']"
      ]
     },
     "execution_count": 75,
     "metadata": {},
     "output_type": "execute_result"
    }
   ],
   "source": [
    "name"
   ]
  },
  {
   "cell_type": "code",
   "execution_count": 15,
   "metadata": {},
   "outputs": [
    {
     "name": "stdout",
     "output_type": "stream",
     "text": [
      "['Ravi', 'Nitin', 'Deepak', 'Himanshu', 'Divya']\n",
      "['Nitin', 'Deepak', 'Himanshu']\n",
      "['Ravi', 'Nitin', 'Deepak', 'Himanshu']\n",
      "['Ravi', 'Nitin', 'Deepak', 'Himanshu']\n",
      "['Nitin', 'Deepak', 'Himanshu']\n"
     ]
    }
   ],
   "source": [
    "print(name[:])\n",
    "print(name[1:4])\n",
    "print(name[:4])\n",
    "print(name[:-1])\n",
    "print(name[1:-1])"
   ]
  },
  {
   "cell_type": "code",
   "execution_count": 76,
   "metadata": {},
   "outputs": [],
   "source": [
    "l1 = [['Ravi', 'Nitin', 'Deepak', 'Himanshu', 'Divya'],[10,20,30,40,50],[2.5,4.5,6.6,9.3,8.8]]"
   ]
  },
  {
   "cell_type": "code",
   "execution_count": 77,
   "metadata": {},
   "outputs": [
    {
     "data": {
      "text/plain": [
       "[['Ravi', 'Nitin', 'Deepak', 'Himanshu', 'Divya'],\n",
       " [10, 20, 30, 40, 50],\n",
       " [2.5, 4.5, 6.6, 9.3, 8.8]]"
      ]
     },
     "execution_count": 77,
     "metadata": {},
     "output_type": "execute_result"
    }
   ],
   "source": [
    "l1"
   ]
  },
  {
   "cell_type": "code",
   "execution_count": 78,
   "metadata": {},
   "outputs": [
    {
     "data": {
      "text/plain": [
       "3"
      ]
     },
     "execution_count": 78,
     "metadata": {},
     "output_type": "execute_result"
    }
   ],
   "source": [
    "len(l1)"
   ]
  },
  {
   "cell_type": "code",
   "execution_count": 79,
   "metadata": {},
   "outputs": [
    {
     "data": {
      "text/plain": [
       "['Ravi', 'Nitin', 'Deepak']"
      ]
     },
     "execution_count": 79,
     "metadata": {},
     "output_type": "execute_result"
    }
   ],
   "source": [
    "l1[0][0:3]"
   ]
  },
  {
   "cell_type": "code",
   "execution_count": 80,
   "metadata": {},
   "outputs": [
    {
     "data": {
      "text/plain": [
       "20"
      ]
     },
     "execution_count": 80,
     "metadata": {},
     "output_type": "execute_result"
    }
   ],
   "source": [
    "l1[1][1]"
   ]
  },
  {
   "cell_type": "code",
   "execution_count": 81,
   "metadata": {},
   "outputs": [
    {
     "data": {
      "text/plain": [
       "8.8"
      ]
     },
     "execution_count": 81,
     "metadata": {},
     "output_type": "execute_result"
    }
   ],
   "source": [
    "l1[-1][-1]"
   ]
  },
  {
   "cell_type": "markdown",
   "metadata": {},
   "source": [
    "## index(), Append(), Insert(), remove(), sort(), del"
   ]
  },
  {
   "cell_type": "code",
   "execution_count": 82,
   "metadata": {},
   "outputs": [
    {
     "data": {
      "text/plain": [
       "['Ravi', 'Nitin', 'Deepak', 'Himanshu', 'Divya']"
      ]
     },
     "execution_count": 82,
     "metadata": {},
     "output_type": "execute_result"
    }
   ],
   "source": [
    "name"
   ]
  },
  {
   "cell_type": "code",
   "execution_count": 83,
   "metadata": {},
   "outputs": [
    {
     "data": {
      "text/plain": [
       "2"
      ]
     },
     "execution_count": 83,
     "metadata": {},
     "output_type": "execute_result"
    }
   ],
   "source": [
    "name.index(\"Deepak\")"
   ]
  },
  {
   "cell_type": "code",
   "execution_count": 84,
   "metadata": {},
   "outputs": [
    {
     "data": {
      "text/plain": [
       "['Ravi', 'Nitin', 'Deepak', 'Himanshu', 'Divya', 'Mohan']"
      ]
     },
     "execution_count": 84,
     "metadata": {},
     "output_type": "execute_result"
    }
   ],
   "source": [
    "name.append(\"Mohan\")\n",
    "name"
   ]
  },
  {
   "cell_type": "code",
   "execution_count": 85,
   "metadata": {},
   "outputs": [
    {
     "data": {
      "text/plain": [
       "['Ravi', 'Nitin', 'Vishwajeet', 'Deepak', 'Himanshu', 'Divya', 'Mohan']"
      ]
     },
     "execution_count": 85,
     "metadata": {},
     "output_type": "execute_result"
    }
   ],
   "source": [
    "name.insert(2,\"Vishwajeet\")\n",
    "name"
   ]
  },
  {
   "cell_type": "code",
   "execution_count": 86,
   "metadata": {},
   "outputs": [
    {
     "data": {
      "text/plain": [
       "['Ravi', 'Nitin', 'Yash', 'Deepak', 'Himanshu', 'Divya', 'Mohan']"
      ]
     },
     "execution_count": 86,
     "metadata": {},
     "output_type": "execute_result"
    }
   ],
   "source": [
    "name[2] = \"Yash\"\n",
    "name"
   ]
  },
  {
   "cell_type": "code",
   "execution_count": 87,
   "metadata": {},
   "outputs": [
    {
     "data": {
      "text/plain": [
       "['Ravi', 'Nitin', 'Yash', 'Deepak', 'Himanshu', 'Divya']"
      ]
     },
     "execution_count": 87,
     "metadata": {},
     "output_type": "execute_result"
    }
   ],
   "source": [
    "name.remove('Mohan')\n",
    "name"
   ]
  },
  {
   "cell_type": "code",
   "execution_count": 88,
   "metadata": {},
   "outputs": [
    {
     "data": {
      "text/plain": [
       "['Ravi', 'Nitin', 'Yash', 'Deepak', 'Himanshu']"
      ]
     },
     "execution_count": 88,
     "metadata": {},
     "output_type": "execute_result"
    }
   ],
   "source": [
    "del name[-1]\n",
    "name"
   ]
  },
  {
   "cell_type": "code",
   "execution_count": 90,
   "metadata": {},
   "outputs": [
    {
     "data": {
      "text/plain": [
       "['Ravi', 'Nitin', 'Yash']"
      ]
     },
     "execution_count": 90,
     "metadata": {},
     "output_type": "execute_result"
    }
   ],
   "source": [
    "name.pop(-1)\n",
    "name"
   ]
  },
  {
   "cell_type": "code",
   "execution_count": 40,
   "metadata": {},
   "outputs": [],
   "source": [
    "name.sort()"
   ]
  },
  {
   "cell_type": "code",
   "execution_count": 91,
   "metadata": {},
   "outputs": [
    {
     "data": {
      "text/plain": [
       "['Ravi', 'Nitin', 'Yash']"
      ]
     },
     "execution_count": 91,
     "metadata": {},
     "output_type": "execute_result"
    }
   ],
   "source": [
    "name"
   ]
  },
  {
   "cell_type": "code",
   "execution_count": 92,
   "metadata": {},
   "outputs": [
    {
     "data": {
      "text/plain": [
       "['Yash', 'Ravi', 'Nitin']"
      ]
     },
     "execution_count": 92,
     "metadata": {},
     "output_type": "execute_result"
    }
   ],
   "source": [
    "name.sort(reverse=True)\n",
    "name"
   ]
  },
  {
   "cell_type": "markdown",
   "metadata": {},
   "source": [
    "# List Comprihensions"
   ]
  },
  {
   "cell_type": "code",
   "execution_count": 93,
   "metadata": {},
   "outputs": [
    {
     "data": {
      "text/plain": [
       "'Vishwajeet'"
      ]
     },
     "execution_count": 93,
     "metadata": {},
     "output_type": "execute_result"
    }
   ],
   "source": [
    "mystr = \"Vishwajeet\"\n",
    "mystr"
   ]
  },
  {
   "cell_type": "code",
   "execution_count": 94,
   "metadata": {},
   "outputs": [
    {
     "data": {
      "text/plain": [
       "'Vis'"
      ]
     },
     "execution_count": 94,
     "metadata": {},
     "output_type": "execute_result"
    }
   ],
   "source": [
    "mystr[0:3]"
   ]
  },
  {
   "cell_type": "code",
   "execution_count": 95,
   "metadata": {},
   "outputs": [
    {
     "name": "stdout",
     "output_type": "stream",
     "text": [
      "['V', 'i', 's', 'h', 'w', 'a', 'j', 'e', 'e', 't']\n"
     ]
    }
   ],
   "source": [
    "mylist = []\n",
    "\n",
    "for letter in mystr:\n",
    "    mylist.append(letter)\n",
    "print(mylist)"
   ]
  },
  {
   "cell_type": "code",
   "execution_count": 96,
   "metadata": {},
   "outputs": [
    {
     "data": {
      "text/plain": [
       "['V', 'i', 's', 'h', 'w', 'a', 'j', 'e', 'e', 't']"
      ]
     },
     "execution_count": 96,
     "metadata": {},
     "output_type": "execute_result"
    }
   ],
   "source": [
    "mylist = [letter for letter in mystr]\n",
    "\n",
    "mylist"
   ]
  },
  {
   "cell_type": "code",
   "execution_count": 97,
   "metadata": {},
   "outputs": [
    {
     "data": {
      "text/plain": [
       "[0, 1, 2, 3, 4, 5, 6, 7, 8, 9, 10]"
      ]
     },
     "execution_count": 97,
     "metadata": {},
     "output_type": "execute_result"
    }
   ],
   "source": [
    "lst = [x for x in range(0,11)]\n",
    "lst"
   ]
  },
  {
   "cell_type": "code",
   "execution_count": 98,
   "metadata": {},
   "outputs": [
    {
     "data": {
      "text/plain": [
       "[0, 1, 4, 9, 16, 25, 36, 49, 64, 81, 100]"
      ]
     },
     "execution_count": 98,
     "metadata": {},
     "output_type": "execute_result"
    }
   ],
   "source": [
    "lst = [x*x for x in range(0,11)]\n",
    "lst"
   ]
  },
  {
   "cell_type": "code",
   "execution_count": 99,
   "metadata": {},
   "outputs": [
    {
     "data": {
      "text/plain": [
       "[0, 2, 4, 6, 8, 10]"
      ]
     },
     "execution_count": 99,
     "metadata": {},
     "output_type": "execute_result"
    }
   ],
   "source": [
    "lst = [x for x in range(0,11) if x%2==0]\n",
    "lst"
   ]
  },
  {
   "cell_type": "markdown",
   "metadata": {},
   "source": [
    "# Tuple"
   ]
  },
  {
   "cell_type": "code",
   "execution_count": 100,
   "metadata": {},
   "outputs": [
    {
     "data": {
      "text/plain": [
       "(10, 20, 30, 40)"
      ]
     },
     "execution_count": 100,
     "metadata": {},
     "output_type": "execute_result"
    }
   ],
   "source": [
    "t1 = (10,20,30,40)\n",
    "t1"
   ]
  },
  {
   "cell_type": "code",
   "execution_count": 101,
   "metadata": {},
   "outputs": [
    {
     "data": {
      "text/plain": [
       "10"
      ]
     },
     "execution_count": 101,
     "metadata": {},
     "output_type": "execute_result"
    }
   ],
   "source": [
    "t1[0]"
   ]
  },
  {
   "cell_type": "code",
   "execution_count": 102,
   "metadata": {},
   "outputs": [
    {
     "ename": "TypeError",
     "evalue": "'tuple' object does not support item assignment",
     "output_type": "error",
     "traceback": [
      "\u001b[1;31m---------------------------------------------------------------------------\u001b[0m",
      "\u001b[1;31mTypeError\u001b[0m                                 Traceback (most recent call last)",
      "Cell \u001b[1;32mIn[102], line 1\u001b[0m\n\u001b[1;32m----> 1\u001b[0m \u001b[43mt1\u001b[49m\u001b[43m[\u001b[49m\u001b[38;5;241;43m0\u001b[39;49m\u001b[43m]\u001b[49m \u001b[38;5;241m=\u001b[39m \u001b[38;5;241m110\u001b[39m\n",
      "\u001b[1;31mTypeError\u001b[0m: 'tuple' object does not support item assignment"
     ]
    }
   ],
   "source": [
    "t1[0] = 110"
   ]
  },
  {
   "cell_type": "code",
   "execution_count": 103,
   "metadata": {},
   "outputs": [
    {
     "name": "stdout",
     "output_type": "stream",
     "text": [
      "4\n",
      "100\n",
      "10\n",
      "40\n"
     ]
    }
   ],
   "source": [
    "print(len(t1))\n",
    "print(sum(t1))\n",
    "print(min(t1))\n",
    "print(max(t1))"
   ]
  },
  {
   "cell_type": "code",
   "execution_count": 104,
   "metadata": {},
   "outputs": [
    {
     "ename": "TypeError",
     "evalue": "'tuple' object doesn't support item deletion",
     "output_type": "error",
     "traceback": [
      "\u001b[1;31m---------------------------------------------------------------------------\u001b[0m",
      "\u001b[1;31mTypeError\u001b[0m                                 Traceback (most recent call last)",
      "Cell \u001b[1;32mIn[104], line 1\u001b[0m\n\u001b[1;32m----> 1\u001b[0m \u001b[38;5;28;01mdel\u001b[39;00m \u001b[43mt1\u001b[49m\u001b[43m[\u001b[49m\u001b[38;5;241;43m0\u001b[39;49m\u001b[43m]\u001b[49m\n",
      "\u001b[1;31mTypeError\u001b[0m: 'tuple' object doesn't support item deletion"
     ]
    }
   ],
   "source": [
    "del t1[0]"
   ]
  },
  {
   "cell_type": "markdown",
   "metadata": {},
   "source": [
    "# set"
   ]
  },
  {
   "cell_type": "code",
   "execution_count": 105,
   "metadata": {},
   "outputs": [
    {
     "data": {
      "text/plain": [
       "[1,\n",
       " 1,\n",
       " 1,\n",
       " 1,\n",
       " 2,\n",
       " 2,\n",
       " 2,\n",
       " 3,\n",
       " 3,\n",
       " 3,\n",
       " 4,\n",
       " 4,\n",
       " 4,\n",
       " 4,\n",
       " 4,\n",
       " 5,\n",
       " 5,\n",
       " 5,\n",
       " 5,\n",
       " 5,\n",
       " 6,\n",
       " 6,\n",
       " 6,\n",
       " 7,\n",
       " 7,\n",
       " 7,\n",
       " 7]"
      ]
     },
     "execution_count": 105,
     "metadata": {},
     "output_type": "execute_result"
    }
   ],
   "source": [
    "l1 = [1,1,1,1,2,2,2,3,3,3,4,4,4,4,4,5,5,5,5,5,6,6,6,7,7,7,7]\n",
    "l1"
   ]
  },
  {
   "cell_type": "code",
   "execution_count": 106,
   "metadata": {},
   "outputs": [
    {
     "name": "stdout",
     "output_type": "stream",
     "text": [
      "{1, 2, 3, 4, 5, 6, 7}\n"
     ]
    }
   ],
   "source": [
    "x = set(l1)\n",
    "print(x)"
   ]
  },
  {
   "cell_type": "markdown",
   "metadata": {},
   "source": [
    "# Dictionaries"
   ]
  },
  {
   "cell_type": "code",
   "execution_count": 107,
   "metadata": {},
   "outputs": [
    {
     "data": {
      "text/plain": [
       "{'key1': 'value1', 'key2': 'value2', 'key3': 'value3'}"
      ]
     },
     "execution_count": 107,
     "metadata": {},
     "output_type": "execute_result"
    }
   ],
   "source": [
    "mydict = {\"key1\":\"value1\",\"key2\":\"value2\",\"key3\":\"value3\"}\n",
    "mydict"
   ]
  },
  {
   "cell_type": "code",
   "execution_count": 108,
   "metadata": {},
   "outputs": [
    {
     "data": {
      "text/plain": [
       "'value1'"
      ]
     },
     "execution_count": 108,
     "metadata": {},
     "output_type": "execute_result"
    }
   ],
   "source": [
    "mydict[\"key1\"]"
   ]
  },
  {
   "cell_type": "code",
   "execution_count": 109,
   "metadata": {},
   "outputs": [
    {
     "data": {
      "text/plain": [
       "{'key1': 54535413543,\n",
       " 'key2': [10, 20, 30, 40, 50],\n",
       " 'key3': ['ml', 'dl', 'ds', 'ai']}"
      ]
     },
     "execution_count": 109,
     "metadata": {},
     "output_type": "execute_result"
    }
   ],
   "source": [
    "mydict = {\"key1\":54535413543, \"key2\":[10,20,30,40,50], \"key3\":[\"ml\",\"dl\",\"ds\",\"ai\"]}\n",
    "mydict"
   ]
  },
  {
   "cell_type": "code",
   "execution_count": 110,
   "metadata": {},
   "outputs": [
    {
     "data": {
      "text/plain": [
       "[20, 30, 40]"
      ]
     },
     "execution_count": 110,
     "metadata": {},
     "output_type": "execute_result"
    }
   ],
   "source": [
    "mydict[\"key2\"][1:-1]"
   ]
  },
  {
   "cell_type": "code",
   "execution_count": 111,
   "metadata": {},
   "outputs": [
    {
     "data": {
      "text/plain": [
       "dict_items([('key1', 54535413543), ('key2', [10, 20, 30, 40, 50]), ('key3', ['ml', 'dl', 'ds', 'ai'])])"
      ]
     },
     "execution_count": 111,
     "metadata": {},
     "output_type": "execute_result"
    }
   ],
   "source": [
    "mydict.items()"
   ]
  },
  {
   "cell_type": "code",
   "execution_count": 112,
   "metadata": {},
   "outputs": [
    {
     "data": {
      "text/plain": [
       "dict_keys(['key1', 'key2', 'key3'])"
      ]
     },
     "execution_count": 112,
     "metadata": {},
     "output_type": "execute_result"
    }
   ],
   "source": [
    "mydict.keys()"
   ]
  },
  {
   "cell_type": "code",
   "execution_count": 113,
   "metadata": {},
   "outputs": [
    {
     "data": {
      "text/plain": [
       "dict_values([54535413543, [10, 20, 30, 40, 50], ['ml', 'dl', 'ds', 'ai']])"
      ]
     },
     "execution_count": 113,
     "metadata": {},
     "output_type": "execute_result"
    }
   ],
   "source": [
    "mydict.values()"
   ]
  },
  {
   "cell_type": "markdown",
   "metadata": {},
   "source": [
    "# Happy Programming!!!"
   ]
  }
 ],
 "metadata": {
  "kaggle": {
   "accelerator": "none",
   "dataSources": [],
   "dockerImageVersionId": 30761,
   "isGpuEnabled": false,
   "isInternetEnabled": true,
   "language": "python",
   "sourceType": "notebook"
  },
  "kernelspec": {
   "display_name": "Python 3 (ipykernel)",
   "language": "python",
   "name": "python3"
  },
  "language_info": {
   "codemirror_mode": {
    "name": "ipython",
    "version": 3
   },
   "file_extension": ".py",
   "mimetype": "text/x-python",
   "name": "python",
   "nbconvert_exporter": "python",
   "pygments_lexer": "ipython3",
   "version": "3.12.5"
  }
 },
 "nbformat": 4,
 "nbformat_minor": 4
}
